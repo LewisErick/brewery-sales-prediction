{
 "cells": [
  {
   "cell_type": "code",
   "execution_count": null,
   "metadata": {
    "slideshow": {
     "slide_type": "fragment"
    }
   },
   "outputs": [],
   "source": [
    "import pandas as pd\n",
    "import numpy as np"
   ]
  },
  {
   "cell_type": "code",
   "execution_count": null,
   "metadata": {
    "slideshow": {
     "slide_type": "fragment"
    }
   },
   "outputs": [],
   "source": [
    "training_data = pd.read_csv(\"input_data_train.csv\")\n",
    "pred_data = pd.read_csv(\"input_data_pred.csv\")"
   ]
  },
  {
   "cell_type": "code",
   "execution_count": null,
   "metadata": {
    "slideshow": {
     "slide_type": "fragment"
    }
   },
   "outputs": [],
   "source": [
    "from sklearn import preprocessing"
   ]
  },
  {
   "cell_type": "code",
   "execution_count": null,
   "metadata": {
    "slideshow": {
     "slide_type": "slide"
    }
   },
   "outputs": [],
   "source": [
    "continuous_feature_columns = [\"temp_mean\", \"temp_max\", \"temp_min\", \"sunshine_quant\", \"price\"]\n",
    "categorical_feature_columns = [\"event\", \"location\", \"product\"]\n",
    "\n",
    "df = df.fillna({\"price\": 0, \"event\": \"N/A\", \"location\": 0, \"date\": \"N/A\", \"sa_quantity\": 0,\n",
    "                \"temp_mean\":  0, \"temp_max\": 0, \"temp_min\": 0, \"sunshine_quant\": 0})\n",
    "\n",
    "df_Y = df[label_column]\n",
    "\n",
    "for feature in columns:\n",
    "    continuous_data = data_df[feature]\n",
    "    continuous_data_values = continuous_data.values.reshape(-1, 1)\n",
    "\n",
    "    min_max_scaler = preprocessing.MinMaxScaler()\n",
    "    continuous_data_values_scaled = min_max_scaler.fit_transform(continuous_data_values)\n",
    "\n",
    "    data_df[feature] = continuous_data_values_scaled\n",
    "\n",
    "encoders = {}\n",
    "for feature in columns:\n",
    "    le = preprocessing.LabelEncoder()\n",
    "    le.fit(data_df[feature].values)\n",
    "    data_df[feature] = le.transform(data_df[feature].values)\n",
    "    encoders[feature] = le\n",
    "\n",
    "df_columns = list(df.columns.values)\n",
    "df_columns.remove(label_column)\n",
    "df_X = df[df_columns]"
   ]
  },
  {
   "cell_type": "code",
   "execution_count": null,
   "metadata": {
    "slideshow": {
     "slide_type": "slide"
    }
   },
   "outputs": [],
   "source": [
    "# Given a data frame and the columns containing numerical continuous features,\n",
    "# output the data frame with normalized values per column.\n",
    "def normalize_features(data_df, columns):\n",
    "    for feature in columns:\n",
    "        ..."
   ]
  },
  {
   "cell_type": "code",
   "execution_count": null,
   "metadata": {
    "slideshow": {
     "slide_type": "fragment"
    }
   },
   "outputs": [],
   "source": [
    "# Encodes columns using a LabelEncoder that exports for future transformation needs.\n",
    "def encode_categorical_features(data_df, columns):\n",
    "    encoders = {}\n",
    "    for feature in columns:\n",
    "        ..."
   ]
  },
  {
   "cell_type": "code",
   "execution_count": null,
   "metadata": {
    "slideshow": {
     "slide_type": "fragment"
    }
   },
   "outputs": [],
   "source": [
    "# Performs preprocessing on the data for the training set.\n",
    "def preprocess(df, continuous_feature_columns=[], categorical_feature_columns=[], \n",
    "               label_column=\"sa_quantity\", date_column=\"date\"):\n",
    "    df_Y = df[label_column]\n",
    "    \n",
    "    normalize_features(df, continuous_feature_columns)\n",
    "    \n",
    "    encoders = encode_categorical_features(df, categorical_feature_columns)\n",
    "    \n",
    "    ..."
   ]
  },
  {
   "cell_type": "code",
   "execution_count": null,
   "metadata": {
    "slideshow": {
     "slide_type": "slide"
    }
   },
   "outputs": [],
   "source": [
    "# Notebook exported as python module\n",
    "from lewis_preprocess import preprocess\n",
    "\n",
    "df = ...\n",
    "\n",
    "preprocessed_df = preprocess(df)"
   ]
  },
  {
   "cell_type": "code",
   "execution_count": null,
   "metadata": {
    "slideshow": {
     "slide_type": "fragment"
    }
   },
   "outputs": [],
   "source": [
    "# Do things with preprocessed_df in other cell(s)!"
   ]
  },
  {
   "cell_type": "code",
   "execution_count": 2,
   "metadata": {
    "slideshow": {
     "slide_type": "slide"
    }
   },
   "outputs": [],
   "source": [
    "def uber_machin_lernin_model(x):\n",
    "    return x > 0"
   ]
  },
  {
   "cell_type": "code",
   "execution_count": 3,
   "metadata": {
    "slideshow": {
     "slide_type": "fragment"
    }
   },
   "outputs": [
    {
     "data": {
      "text/plain": [
       "False"
      ]
     },
     "execution_count": 3,
     "metadata": {},
     "output_type": "execute_result"
    }
   ],
   "source": [
    "uber_machin_lernin_model(0)"
   ]
  },
  {
   "cell_type": "code",
   "execution_count": 4,
   "metadata": {
    "slideshow": {
     "slide_type": "fragment"
    }
   },
   "outputs": [
    {
     "data": {
      "text/plain": [
       "True"
      ]
     },
     "execution_count": 4,
     "metadata": {},
     "output_type": "execute_result"
    }
   ],
   "source": [
    "uber_machin_lernin_model(10)"
   ]
  },
  {
   "cell_type": "code",
   "execution_count": 5,
   "metadata": {
    "slideshow": {
     "slide_type": "fragment"
    }
   },
   "outputs": [
    {
     "data": {
      "text/plain": [
       "False"
      ]
     },
     "execution_count": 5,
     "metadata": {},
     "output_type": "execute_result"
    }
   ],
   "source": [
    "uber_machin_lernin_model(-5)"
   ]
  }
 ],
 "metadata": {
  "celltoolbar": "Slideshow",
  "kernelspec": {
   "display_name": "Python 3",
   "language": "python",
   "name": "python3"
  },
  "language_info": {
   "codemirror_mode": {
    "name": "ipython",
    "version": 3
   },
   "file_extension": ".py",
   "mimetype": "text/x-python",
   "name": "python",
   "nbconvert_exporter": "python",
   "pygments_lexer": "ipython3",
   "version": "3.6.8"
  }
 },
 "nbformat": 4,
 "nbformat_minor": 2
}
